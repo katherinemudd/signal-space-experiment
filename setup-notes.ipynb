{
 "cells": [
  {
   "metadata": {},
   "cell_type": "raw",
   "source": "run locally for testing",
   "id": "4132eaa7f7ad0c7a"
  },
  {
   "metadata": {
    "ExecuteTime": {
     "end_time": "2025-09-23T15:18:51.125190Z",
     "start_time": "2025-09-23T15:18:51.115571Z"
    }
   },
   "cell_type": "code",
   "source": "psynet debug local",
   "id": "34b39c8801c2156a",
   "outputs": [
    {
     "ename": "SyntaxError",
     "evalue": "invalid syntax (1221059821.py, line 1)",
     "output_type": "error",
     "traceback": [
      "\u001B[0;36m  Cell \u001B[0;32mIn[1], line 1\u001B[0;36m\u001B[0m\n\u001B[0;31m    psynet debug local\u001B[0m\n\u001B[0m           ^\u001B[0m\n\u001B[0;31mSyntaxError\u001B[0m\u001B[0;31m:\u001B[0m invalid syntax\n"
     ]
    }
   ],
   "execution_count": 1
  },
  {
   "metadata": {
    "collapsed": true
   },
   "cell_type": "code",
   "outputs": [],
   "execution_count": null,
   "source": [
    "(.venv) katherinemudd@Mac ~ % deactivate\n",
    "katherinemudd@Mac ~ % cd PsyNet/demos/experiments/sig_space_until_correct\n",
    "katherinemudd@Mac sig_space_until_correct % source psynet-env/bin/activate\n",
    "katherinemudd@Mac sig_space_until_correct % psynet debug local\n",
    "\n",
    "\n",
    "\n",
    "\n"
   ],
   "id": "initial_id"
  },
  {
   "metadata": {},
   "cell_type": "markdown",
   "source": "",
   "id": "99d03b4535f46180"
  },
  {
   "metadata": {},
   "cell_type": "code",
   "outputs": [],
   "execution_count": null,
   "source": "SKIP_TODO_CHECK=1 SKIP_CHECK_PSYNET_VERSION_REQUIREMENT=1 ./psynet-env/bin/psynet debug heroku --app sigspace-experiment",
   "id": "33228aea44d05b33"
  },
  {
   "metadata": {},
   "cell_type": "markdown",
   "source": "to stop Heroku dynos:",
   "id": "8542784b868eb95c"
  },
  {
   "metadata": {},
   "cell_type": "code",
   "outputs": [],
   "execution_count": null,
   "source": "heroku ps:scale web=0 --app dlgr-sigspace-experimen",
   "id": "f1d1896c33fc1672"
  },
  {
   "metadata": {},
   "cell_type": "markdown",
   "source": "to start Heroku dynos again:",
   "id": "421363c2b1692f26"
  },
  {
   "metadata": {},
   "cell_type": "markdown",
   "source": "heroku ps:scale web=2 --app dlgr-sigspace-experimen",
   "id": "ae75309331d84f73"
  }
 ],
 "metadata": {
  "kernelspec": {
   "display_name": "Python 3",
   "language": "python",
   "name": "python3"
  },
  "language_info": {
   "codemirror_mode": {
    "name": "ipython",
    "version": 2
   },
   "file_extension": ".py",
   "mimetype": "text/x-python",
   "name": "python",
   "nbconvert_exporter": "python",
   "pygments_lexer": "ipython2",
   "version": "2.7.6"
  }
 },
 "nbformat": 4,
 "nbformat_minor": 5
}
