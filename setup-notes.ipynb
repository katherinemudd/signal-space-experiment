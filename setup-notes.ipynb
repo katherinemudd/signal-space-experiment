{
 "cells": [
  {
   "metadata": {},
   "cell_type": "raw",
   "source": "run locally for testing",
   "id": "4132eaa7f7ad0c7a"
  },
  {
   "metadata": {
    "ExecuteTime": {
     "end_time": "2025-09-23T15:18:51.125190Z",
     "start_time": "2025-09-23T15:18:51.115571Z"
    }
   },
   "cell_type": "code",
   "source": "psynet debug local",
   "id": "34b39c8801c2156a",
   "outputs": [
    {
     "ename": "SyntaxError",
     "evalue": "invalid syntax (1221059821.py, line 1)",
     "output_type": "error",
     "traceback": [
      "\u001B[0;36m  Cell \u001B[0;32mIn[1], line 1\u001B[0;36m\u001B[0m\n\u001B[0;31m    psynet debug local\u001B[0m\n\u001B[0m           ^\u001B[0m\n\u001B[0;31mSyntaxError\u001B[0m\u001B[0;31m:\u001B[0m invalid syntax\n"
     ]
    }
   ],
   "execution_count": 1
  },
  {
   "metadata": {
    "collapsed": true
   },
   "cell_type": "code",
   "outputs": [],
   "execution_count": null,
   "source": [
    "(.venv) katherinemudd@Mac ~ % deactivate\n",
    "katherinemudd@Mac ~ % cd PsyNet/demos/experiments/sig_space_until_correct\n",
    "katherinemudd@Mac sig_space_until_correct % source psynet-env/bin/activate\n",
    "katherinemudd@Mac sig_space_until_correct % psynet debug local\n",
    "\n",
    "\n",
    "\n",
    "\n"
   ],
   "id": "initial_id"
  },
  {
   "metadata": {},
   "cell_type": "markdown",
   "source": "",
   "id": "99d03b4535f46180"
  },
  {
   "metadata": {},
   "cell_type": "code",
   "outputs": [],
   "execution_count": null,
   "source": "SKIP_TODO_CHECK=1 SKIP_CHECK_PSYNET_VERSION_REQUIREMENT=1 ./psynet-env/bin/psynet debug heroku --app sigspace-experiment",
   "id": "33228aea44d05b33"
  },
  {
   "metadata": {},
   "cell_type": "markdown",
   "source": "to stop Heroku dynos:",
   "id": "8542784b868eb95c"
  },
  {
   "metadata": {},
   "cell_type": "code",
   "outputs": [],
   "execution_count": null,
   "source": "heroku ps:scale web=0 --app dlgr-sigspace-experimen",
   "id": "f1d1896c33fc1672"
  },
  {
   "metadata": {},
   "cell_type": "markdown",
   "source": "to start Heroku dynos again:",
   "id": "421363c2b1692f26"
  },
  {
   "metadata": {},
   "cell_type": "markdown",
   "source": "heroku ps:scale web=2 --app dlgr-sigspace-experimen",
   "id": "ae75309331d84f73"
  },
  {
   "metadata": {},
   "cell_type": "markdown",
   "source": "initialize the database",
   "id": "6b2d83c258929acb"
  },
  {
   "metadata": {},
   "cell_type": "code",
   "outputs": [],
   "execution_count": null,
   "source": "heroku run \"python -c 'from dallinger.db import init_db; init_db()'\" --app dlgr-sigspace-experimen",
   "id": "e478d7b24341c32"
  },
  {
   "metadata": {},
   "cell_type": "markdown",
   "source": [
    "problems needing to be solved\n",
    "- static files are not added (originally would not compile with them, so decided to add them in later). later is now"
   ],
   "id": "7928b3b9d0df8987"
  },
  {
   "metadata": {},
   "cell_type": "markdown",
   "source": "when redeploying need to first delete the old app, then deploy again from scratch (pushes code to heroku)",
   "id": "1644f091b4f92fda"
  },
  {
   "metadata": {},
   "cell_type": "code",
   "outputs": [],
   "execution_count": null,
   "source": "heroku apps:destroy dlgr-sigspace-experimen --confirm dlgr-sigspace-experimen",
   "id": "77a325e7ac66afa8"
  },
  {
   "metadata": {},
   "cell_type": "code",
   "outputs": [],
   "execution_count": null,
   "source": "SKIP_TODO_CHECK=1 SKIP_CHECK_PSYNET_VERSION_REQUIREMENT=1 SKIP_VERSION_CHECK=1 ./psynet-env/bin/psynet debug heroku --app sigspace-experiment",
   "id": "919637d0308e4392"
  },
  {
   "metadata": {},
   "cell_type": "markdown",
   "source": "each time I do this, need to initialize the database too",
   "id": "f2ae65119876095d"
  },
  {
   "metadata": {},
   "cell_type": "code",
   "outputs": [],
   "execution_count": null,
   "source": "heroku run \"python -c 'from dallinger.db import init_db; init_db()'\" --app dlgr-sigspace-experimen",
   "id": "6a2eecf92da7be28"
  },
  {
   "metadata": {},
   "cell_type": "markdown",
   "source": "restart app",
   "id": "d431d365ef6f6b82"
  },
  {
   "metadata": {},
   "cell_type": "code",
   "outputs": [],
   "execution_count": null,
   "source": "heroku restart --app dlgr-sigspace-experimen",
   "id": "363166bf7e79f597"
  },
  {
   "metadata": {},
   "cell_type": "markdown",
   "source": "",
   "id": "e352e55c7d236d8f"
  }
 ],
 "metadata": {
  "kernelspec": {
   "display_name": "Python 3",
   "language": "python",
   "name": "python3"
  },
  "language_info": {
   "codemirror_mode": {
    "name": "ipython",
    "version": 2
   },
   "file_extension": ".py",
   "mimetype": "text/x-python",
   "name": "python",
   "nbconvert_exporter": "python",
   "pygments_lexer": "ipython2",
   "version": "2.7.6"
  }
 },
 "nbformat": 4,
 "nbformat_minor": 5
}
